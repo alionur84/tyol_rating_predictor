{
 "cells": [
  {
   "cell_type": "code",
   "execution_count": 53,
   "id": "7860e3df",
   "metadata": {},
   "outputs": [],
   "source": [
    "import pandas as pd\n",
    "import numpy as np"
   ]
  },
  {
   "cell_type": "code",
   "execution_count": 54,
   "id": "b4852ef2",
   "metadata": {},
   "outputs": [],
   "source": [
    "df = pd.read_csv('rev2.csv')"
   ]
  },
  {
   "cell_type": "code",
   "execution_count": 124,
   "id": "6ef03afe",
   "metadata": {},
   "outputs": [
    {
     "data": {
      "text/plain": [
       "12482"
      ]
     },
     "execution_count": 124,
     "metadata": {},
     "output_type": "execute_result"
    }
   ],
   "source": [
    "len(df.index)"
   ]
  },
  {
   "cell_type": "code",
   "execution_count": 56,
   "id": "e0a4f00f",
   "metadata": {},
   "outputs": [
    {
     "data": {
      "text/html": [
       "<div>\n",
       "<style scoped>\n",
       "    .dataframe tbody tr th:only-of-type {\n",
       "        vertical-align: middle;\n",
       "    }\n",
       "\n",
       "    .dataframe tbody tr th {\n",
       "        vertical-align: top;\n",
       "    }\n",
       "\n",
       "    .dataframe thead th {\n",
       "        text-align: right;\n",
       "    }\n",
       "</style>\n",
       "<table border=\"1\" class=\"dataframe\">\n",
       "  <thead>\n",
       "    <tr style=\"text-align: right;\">\n",
       "      <th></th>\n",
       "      <th>product_id</th>\n",
       "      <th>review</th>\n",
       "      <th>rating</th>\n",
       "    </tr>\n",
       "  </thead>\n",
       "  <tbody>\n",
       "    <tr>\n",
       "      <th>12478</th>\n",
       "      <td>46679049</td>\n",
       "      <td>ürün çok hızlı bir şekilde ulaştı firmaya tşk ...</td>\n",
       "      <td>5</td>\n",
       "    </tr>\n",
       "    <tr>\n",
       "      <th>12479</th>\n",
       "      <td>46679049</td>\n",
       "      <td>öncelikle çok teşekkürler ☺️ ambalaj çok güzel...</td>\n",
       "      <td>5</td>\n",
       "    </tr>\n",
       "    <tr>\n",
       "      <th>12480</th>\n",
       "      <td>46679049</td>\n",
       "      <td>sağlam hasarsız şekilde geldi sorunsuz çalışıy...</td>\n",
       "      <td>5</td>\n",
       "    </tr>\n",
       "    <tr>\n",
       "      <th>12481</th>\n",
       "      <td>46679049</td>\n",
       "      <td>Ürün çok hızlı Bi şekilde elime ulaştı teşekkü...</td>\n",
       "      <td>5</td>\n",
       "    </tr>\n",
       "    <tr>\n",
       "      <th>12482</th>\n",
       "      <td>46679049</td>\n",
       "      <td>Paketleme ve gönderi çok hızlı ve güzel satıcı...</td>\n",
       "      <td>5</td>\n",
       "    </tr>\n",
       "  </tbody>\n",
       "</table>\n",
       "</div>"
      ],
      "text/plain": [
       "       product_id                                             review  rating\n",
       "12478    46679049  ürün çok hızlı bir şekilde ulaştı firmaya tşk ...       5\n",
       "12479    46679049  öncelikle çok teşekkürler ☺️ ambalaj çok güzel...       5\n",
       "12480    46679049  sağlam hasarsız şekilde geldi sorunsuz çalışıy...       5\n",
       "12481    46679049  Ürün çok hızlı Bi şekilde elime ulaştı teşekkü...       5\n",
       "12482    46679049  Paketleme ve gönderi çok hızlı ve güzel satıcı...       5"
      ]
     },
     "execution_count": 56,
     "metadata": {},
     "output_type": "execute_result"
    }
   ],
   "source": [
    "df.tail()"
   ]
  },
  {
   "cell_type": "markdown",
   "id": "9a461e35",
   "metadata": {},
   "source": [
    "#### Transform to lower case"
   ]
  },
  {
   "cell_type": "code",
   "execution_count": 57,
   "id": "74a03d6a",
   "metadata": {},
   "outputs": [],
   "source": [
    "df['lower'] = df['review'].str.lower()"
   ]
  },
  {
   "cell_type": "markdown",
   "id": "fc7965e3",
   "metadata": {},
   "source": [
    "#### Remove punctuation"
   ]
  },
  {
   "cell_type": "code",
   "execution_count": 59,
   "id": "c914e4ba",
   "metadata": {},
   "outputs": [],
   "source": [
    "df['wo_punct'] = df['lower'].str.replace('[^\\w\\s]','')"
   ]
  },
  {
   "cell_type": "markdown",
   "id": "1af3ef7c",
   "metadata": {},
   "source": [
    "**Remove the whitespaces at the end of each review**"
   ]
  },
  {
   "cell_type": "code",
   "execution_count": 61,
   "id": "02873e05",
   "metadata": {},
   "outputs": [],
   "source": [
    "df['clean_reviews'] = df['wo_punct'].str.strip()"
   ]
  },
  {
   "cell_type": "markdown",
   "id": "82abc50f",
   "metadata": {},
   "source": [
    "**Remove digits**"
   ]
  },
  {
   "cell_type": "code",
   "execution_count": 62,
   "id": "7909af53",
   "metadata": {},
   "outputs": [],
   "source": [
    "df['reviews'] = df['clean_reviews'].str.replace('\\d+', '')"
   ]
  },
  {
   "cell_type": "markdown",
   "id": "43736c3a",
   "metadata": {},
   "source": [
    "**Drop other columns. Reviews are the column with the clean data**"
   ]
  },
  {
   "cell_type": "code",
   "execution_count": 63,
   "id": "f8443917",
   "metadata": {},
   "outputs": [],
   "source": [
    "df.drop(columns = [\"lower\", \"wo_punct\", \"clean_reviews\"], inplace = True)"
   ]
  },
  {
   "cell_type": "code",
   "execution_count": 64,
   "id": "82e9e877",
   "metadata": {},
   "outputs": [
    {
     "data": {
      "text/html": [
       "<div>\n",
       "<style scoped>\n",
       "    .dataframe tbody tr th:only-of-type {\n",
       "        vertical-align: middle;\n",
       "    }\n",
       "\n",
       "    .dataframe tbody tr th {\n",
       "        vertical-align: top;\n",
       "    }\n",
       "\n",
       "    .dataframe thead th {\n",
       "        text-align: right;\n",
       "    }\n",
       "</style>\n",
       "<table border=\"1\" class=\"dataframe\">\n",
       "  <thead>\n",
       "    <tr style=\"text-align: right;\">\n",
       "      <th></th>\n",
       "      <th>product_id</th>\n",
       "      <th>review</th>\n",
       "      <th>rating</th>\n",
       "      <th>reviews</th>\n",
       "    </tr>\n",
       "  </thead>\n",
       "  <tbody>\n",
       "    <tr>\n",
       "      <th>0</th>\n",
       "      <td>31722470</td>\n",
       "      <td>5 gündür 3 er kapsül kullanıyorum. Ne tokluk v...</td>\n",
       "      <td>1</td>\n",
       "      <td>gündür  er kapsül kullanıyorum ne tokluk veri...</td>\n",
       "    </tr>\n",
       "    <tr>\n",
       "      <th>1</th>\n",
       "      <td>31722470</td>\n",
       "      <td>şiddetli başağrısı yaptı ağrı hassasiyeti olan...</td>\n",
       "      <td>1</td>\n",
       "      <td>şiddetli başağrısı yaptı ağrı hassasiyeti olan...</td>\n",
       "    </tr>\n",
       "    <tr>\n",
       "      <th>2</th>\n",
       "      <td>31722470</td>\n",
       "      <td>isi yaramıyo (((</td>\n",
       "      <td>1</td>\n",
       "      <td>isi yaramıyo</td>\n",
       "    </tr>\n",
       "    <tr>\n",
       "      <th>3</th>\n",
       "      <td>31722470</td>\n",
       "      <td>Hiç bir etkisi olmadı</td>\n",
       "      <td>1</td>\n",
       "      <td>hiç bir etkisi olmadı</td>\n",
       "    </tr>\n",
       "    <tr>\n",
       "      <th>4</th>\n",
       "      <td>31722470</td>\n",
       "      <td>maalesef bana iyi gelmedi</td>\n",
       "      <td>1</td>\n",
       "      <td>maalesef bana iyi gelmedi</td>\n",
       "    </tr>\n",
       "  </tbody>\n",
       "</table>\n",
       "</div>"
      ],
      "text/plain": [
       "   product_id                                             review  rating  \\\n",
       "0    31722470  5 gündür 3 er kapsül kullanıyorum. Ne tokluk v...       1   \n",
       "1    31722470  şiddetli başağrısı yaptı ağrı hassasiyeti olan...       1   \n",
       "2    31722470                                   isi yaramıyo (((       1   \n",
       "3    31722470                              Hiç bir etkisi olmadı       1   \n",
       "4    31722470                          maalesef bana iyi gelmedi       1   \n",
       "\n",
       "                                             reviews  \n",
       "0   gündür  er kapsül kullanıyorum ne tokluk veri...  \n",
       "1  şiddetli başağrısı yaptı ağrı hassasiyeti olan...  \n",
       "2                                       isi yaramıyo  \n",
       "3                              hiç bir etkisi olmadı  \n",
       "4                          maalesef bana iyi gelmedi  "
      ]
     },
     "execution_count": 64,
     "metadata": {},
     "output_type": "execute_result"
    }
   ],
   "source": [
    "df.head()"
   ]
  },
  {
   "cell_type": "code",
   "execution_count": 66,
   "id": "5e484da2",
   "metadata": {},
   "outputs": [
    {
     "data": {
      "text/plain": [
       "False"
      ]
     },
     "execution_count": 66,
     "metadata": {},
     "output_type": "execute_result"
    }
   ],
   "source": [
    "df.reviews.isnull().any()"
   ]
  },
  {
   "cell_type": "code",
   "execution_count": 67,
   "id": "82f0da3c",
   "metadata": {},
   "outputs": [],
   "source": [
    "df.to_csv(\"clean_tyol_data.csv\", index=False)"
   ]
  },
  {
   "cell_type": "markdown",
   "id": "b448e1f2",
   "metadata": {},
   "source": [
    "### Import required modules"
   ]
  },
  {
   "cell_type": "code",
   "execution_count": 126,
   "id": "01dfcdf5",
   "metadata": {},
   "outputs": [],
   "source": [
    "import pandas as pd\n",
    "import numpy as np\n",
    "import nltk\n"
   ]
  },
  {
   "cell_type": "markdown",
   "id": "82851ca7",
   "metadata": {},
   "source": [
    "Create a stopwords list for better accuracy"
   ]
  },
  {
   "cell_type": "code",
   "execution_count": 127,
   "id": "edc3403c",
   "metadata": {},
   "outputs": [],
   "source": [
    "from nltk.corpus import stopwords"
   ]
  },
  {
   "cell_type": "code",
   "execution_count": 128,
   "id": "1eac572d",
   "metadata": {},
   "outputs": [],
   "source": [
    "stop_word_list = nltk.corpus.stopwords.words('turkish')"
   ]
  },
  {
   "cell_type": "markdown",
   "id": "567d5106",
   "metadata": {},
   "source": [
    "### Load the clean data"
   ]
  },
  {
   "cell_type": "code",
   "execution_count": 129,
   "id": "7ffa49e4",
   "metadata": {},
   "outputs": [],
   "source": [
    "df = pd.read_csv('clean_tyol_data.csv')"
   ]
  },
  {
   "cell_type": "code",
   "execution_count": 130,
   "id": "2b13b9eb",
   "metadata": {},
   "outputs": [
    {
     "data": {
      "text/plain": [
       "product_id     int64\n",
       "review        object\n",
       "rating         int64\n",
       "reviews       object\n",
       "dtype: object"
      ]
     },
     "execution_count": 130,
     "metadata": {},
     "output_type": "execute_result"
    }
   ],
   "source": [
    "df.dtypes"
   ]
  },
  {
   "cell_type": "markdown",
   "id": "951eb3f7",
   "metadata": {},
   "source": [
    "Drop the row with only emojis"
   ]
  },
  {
   "cell_type": "code",
   "execution_count": 131,
   "id": "7eeb2601",
   "metadata": {},
   "outputs": [
    {
     "data": {
      "text/html": [
       "<div>\n",
       "<style scoped>\n",
       "    .dataframe tbody tr th:only-of-type {\n",
       "        vertical-align: middle;\n",
       "    }\n",
       "\n",
       "    .dataframe tbody tr th {\n",
       "        vertical-align: top;\n",
       "    }\n",
       "\n",
       "    .dataframe thead th {\n",
       "        text-align: right;\n",
       "    }\n",
       "</style>\n",
       "<table border=\"1\" class=\"dataframe\">\n",
       "  <thead>\n",
       "    <tr style=\"text-align: right;\">\n",
       "      <th></th>\n",
       "      <th>product_id</th>\n",
       "      <th>review</th>\n",
       "      <th>rating</th>\n",
       "      <th>reviews</th>\n",
       "    </tr>\n",
       "  </thead>\n",
       "  <tbody>\n",
       "    <tr>\n",
       "      <th>3344</th>\n",
       "      <td>40275334</td>\n",
       "      <td>🥳🥳🥳🥳🥳🥳🥳🥳🥳🥳</td>\n",
       "      <td>5</td>\n",
       "      <td>NaN</td>\n",
       "    </tr>\n",
       "  </tbody>\n",
       "</table>\n",
       "</div>"
      ],
      "text/plain": [
       "      product_id      review  rating reviews\n",
       "3344    40275334  🥳🥳🥳🥳🥳🥳🥳🥳🥳🥳       5     NaN"
      ]
     },
     "execution_count": 131,
     "metadata": {},
     "output_type": "execute_result"
    }
   ],
   "source": [
    "df.loc[df.reviews.isnull()]"
   ]
  },
  {
   "cell_type": "code",
   "execution_count": 132,
   "id": "36553c58",
   "metadata": {},
   "outputs": [],
   "source": [
    "df.dropna(inplace = True)"
   ]
  },
  {
   "cell_type": "code",
   "execution_count": 133,
   "id": "6d08d572",
   "metadata": {},
   "outputs": [
    {
     "data": {
      "text/html": [
       "<div>\n",
       "<style scoped>\n",
       "    .dataframe tbody tr th:only-of-type {\n",
       "        vertical-align: middle;\n",
       "    }\n",
       "\n",
       "    .dataframe tbody tr th {\n",
       "        vertical-align: top;\n",
       "    }\n",
       "\n",
       "    .dataframe thead th {\n",
       "        text-align: right;\n",
       "    }\n",
       "</style>\n",
       "<table border=\"1\" class=\"dataframe\">\n",
       "  <thead>\n",
       "    <tr style=\"text-align: right;\">\n",
       "      <th></th>\n",
       "      <th>product_id</th>\n",
       "      <th>review</th>\n",
       "      <th>rating</th>\n",
       "      <th>reviews</th>\n",
       "    </tr>\n",
       "  </thead>\n",
       "  <tbody>\n",
       "  </tbody>\n",
       "</table>\n",
       "</div>"
      ],
      "text/plain": [
       "Empty DataFrame\n",
       "Columns: [product_id, review, rating, reviews]\n",
       "Index: []"
      ]
     },
     "execution_count": 133,
     "metadata": {},
     "output_type": "execute_result"
    }
   ],
   "source": [
    "df.loc[df.reviews.isnull()]"
   ]
  },
  {
   "cell_type": "code",
   "execution_count": 134,
   "id": "6bffbf5f",
   "metadata": {},
   "outputs": [
    {
     "data": {
      "text/html": [
       "<div>\n",
       "<style scoped>\n",
       "    .dataframe tbody tr th:only-of-type {\n",
       "        vertical-align: middle;\n",
       "    }\n",
       "\n",
       "    .dataframe tbody tr th {\n",
       "        vertical-align: top;\n",
       "    }\n",
       "\n",
       "    .dataframe thead th {\n",
       "        text-align: right;\n",
       "    }\n",
       "</style>\n",
       "<table border=\"1\" class=\"dataframe\">\n",
       "  <thead>\n",
       "    <tr style=\"text-align: right;\">\n",
       "      <th></th>\n",
       "      <th>product_id</th>\n",
       "      <th>review</th>\n",
       "      <th>rating</th>\n",
       "      <th>reviews</th>\n",
       "    </tr>\n",
       "  </thead>\n",
       "  <tbody>\n",
       "    <tr>\n",
       "      <th>0</th>\n",
       "      <td>31722470</td>\n",
       "      <td>5 gündür 3 er kapsül kullanıyorum. Ne tokluk v...</td>\n",
       "      <td>1</td>\n",
       "      <td>gündür  er kapsül kullanıyorum ne tokluk veri...</td>\n",
       "    </tr>\n",
       "    <tr>\n",
       "      <th>1</th>\n",
       "      <td>31722470</td>\n",
       "      <td>şiddetli başağrısı yaptı ağrı hassasiyeti olan...</td>\n",
       "      <td>1</td>\n",
       "      <td>şiddetli başağrısı yaptı ağrı hassasiyeti olan...</td>\n",
       "    </tr>\n",
       "    <tr>\n",
       "      <th>2</th>\n",
       "      <td>31722470</td>\n",
       "      <td>isi yaramıyo (((</td>\n",
       "      <td>1</td>\n",
       "      <td>isi yaramıyo</td>\n",
       "    </tr>\n",
       "    <tr>\n",
       "      <th>3</th>\n",
       "      <td>31722470</td>\n",
       "      <td>Hiç bir etkisi olmadı</td>\n",
       "      <td>1</td>\n",
       "      <td>hiç bir etkisi olmadı</td>\n",
       "    </tr>\n",
       "    <tr>\n",
       "      <th>4</th>\n",
       "      <td>31722470</td>\n",
       "      <td>maalesef bana iyi gelmedi</td>\n",
       "      <td>1</td>\n",
       "      <td>maalesef bana iyi gelmedi</td>\n",
       "    </tr>\n",
       "  </tbody>\n",
       "</table>\n",
       "</div>"
      ],
      "text/plain": [
       "   product_id                                             review  rating  \\\n",
       "0    31722470  5 gündür 3 er kapsül kullanıyorum. Ne tokluk v...       1   \n",
       "1    31722470  şiddetli başağrısı yaptı ağrı hassasiyeti olan...       1   \n",
       "2    31722470                                   isi yaramıyo (((       1   \n",
       "3    31722470                              Hiç bir etkisi olmadı       1   \n",
       "4    31722470                          maalesef bana iyi gelmedi       1   \n",
       "\n",
       "                                             reviews  \n",
       "0   gündür  er kapsül kullanıyorum ne tokluk veri...  \n",
       "1  şiddetli başağrısı yaptı ağrı hassasiyeti olan...  \n",
       "2                                       isi yaramıyo  \n",
       "3                              hiç bir etkisi olmadı  \n",
       "4                          maalesef bana iyi gelmedi  "
      ]
     },
     "execution_count": 134,
     "metadata": {},
     "output_type": "execute_result"
    }
   ],
   "source": [
    "df.head()"
   ]
  },
  {
   "cell_type": "code",
   "execution_count": 135,
   "id": "4f689893",
   "metadata": {},
   "outputs": [
    {
     "data": {
      "text/plain": [
       "5    3389\n",
       "4    2670\n",
       "1    2343\n",
       "3    2273\n",
       "2    1807\n",
       "Name: rating, dtype: int64"
      ]
     },
     "execution_count": 135,
     "metadata": {},
     "output_type": "execute_result"
    }
   ],
   "source": [
    "df.rating.value_counts()"
   ]
  },
  {
   "cell_type": "code",
   "execution_count": 140,
   "id": "44e4ee99",
   "metadata": {},
   "outputs": [],
   "source": [
    "reviews = []\n",
    "for i in df.index:\n",
    "    reviews.append((df['reviews'][i], df['rating'][i]))"
   ]
  },
  {
   "cell_type": "code",
   "execution_count": 95,
   "id": "2af33d5f",
   "metadata": {},
   "outputs": [],
   "source": [
    "reviews = []\n",
    "for i in df.index:\n",
    "    reviews.append(Review(df['reviews'][i], df['rating'][i]))"
   ]
  },
  {
   "cell_type": "code",
   "execution_count": 96,
   "id": "798be6f9",
   "metadata": {},
   "outputs": [
    {
     "data": {
      "text/plain": [
       "' gün de kargoya verildi  ayda teslim aldım kalitesi fena değil kargo hızı rezalet'"
      ]
     },
     "execution_count": 96,
     "metadata": {},
     "output_type": "execute_result"
    }
   ],
   "source": [
    "reviews[127].text"
   ]
  },
  {
   "cell_type": "code",
   "execution_count": 97,
   "id": "31a331bf",
   "metadata": {},
   "outputs": [
    {
     "data": {
      "text/plain": [
       "2"
      ]
     },
     "execution_count": 97,
     "metadata": {},
     "output_type": "execute_result"
    }
   ],
   "source": [
    "reviews[127].rating"
   ]
  },
  {
   "cell_type": "markdown",
   "id": "25bc9848",
   "metadata": {},
   "source": [
    "### Divide the data for training and test"
   ]
  },
  {
   "cell_type": "code",
   "execution_count": 139,
   "id": "002c150b",
   "metadata": {},
   "outputs": [],
   "source": [
    "from sklearn.model_selection import train_test_split"
   ]
  },
  {
   "cell_type": "code",
   "execution_count": 141,
   "id": "8244078c",
   "metadata": {},
   "outputs": [],
   "source": [
    "training, test = train_test_split(reviews, test_size = 0.33, random_state = 42)"
   ]
  },
  {
   "cell_type": "code",
   "execution_count": 143,
   "id": "c565c026",
   "metadata": {},
   "outputs": [],
   "source": [
    "train_x = []\n",
    "train_y = []\n",
    "for i in training:\n",
    "    train_x.append(i[0])\n",
    "    train_y.append(i[1])\n",
    "    "
   ]
  },
  {
   "cell_type": "code",
   "execution_count": 145,
   "id": "665f7aab",
   "metadata": {},
   "outputs": [],
   "source": [
    "test_x = []\n",
    "test_y = []\n",
    "for i in test:\n",
    "    test_x.append(i[0])\n",
    "    test_y.append(i[1])"
   ]
  },
  {
   "cell_type": "markdown",
   "id": "0b04373c",
   "metadata": {},
   "source": [
    "### Bag of Words Vectorization"
   ]
  },
  {
   "cell_type": "code",
   "execution_count": 146,
   "id": "47f7a3a4",
   "metadata": {},
   "outputs": [],
   "source": [
    "from sklearn.feature_extraction.text import CountVectorizer\n",
    "\n",
    "vectorizer = CountVectorizer(stop_words=stop_word_list)\n",
    "\n"
   ]
  },
  {
   "cell_type": "code",
   "execution_count": 147,
   "id": "eb522e6d",
   "metadata": {},
   "outputs": [],
   "source": [
    "train_x_vectors = vectorizer.fit_transform(train_x)\n",
    "test_x_vectors = vectorizer.transform(test_x)"
   ]
  },
  {
   "cell_type": "markdown",
   "id": "b594d678",
   "metadata": {},
   "source": [
    "### Adopt svm model for classification"
   ]
  },
  {
   "cell_type": "code",
   "execution_count": 148,
   "id": "01c4583d",
   "metadata": {},
   "outputs": [],
   "source": [
    "from sklearn import svm\n",
    "clf_svm = svm.SVC(kernel = \"linear\")"
   ]
  },
  {
   "cell_type": "code",
   "execution_count": 149,
   "id": "f7edaf54",
   "metadata": {},
   "outputs": [
    {
     "data": {
      "text/plain": [
       "SVC(kernel='linear')"
      ]
     },
     "execution_count": 149,
     "metadata": {},
     "output_type": "execute_result"
    }
   ],
   "source": [
    "clf_svm.fit(train_x_vectors, train_y)"
   ]
  },
  {
   "cell_type": "code",
   "execution_count": 157,
   "id": "2c7c2158",
   "metadata": {},
   "outputs": [
    {
     "data": {
      "text/plain": [
       "'silerken çok leke kalıyor kalitesinden çok memnun kalmadım'"
      ]
     },
     "execution_count": 157,
     "metadata": {},
     "output_type": "execute_result"
    }
   ],
   "source": [
    "test_x[300]"
   ]
  },
  {
   "cell_type": "code",
   "execution_count": 158,
   "id": "20b92341",
   "metadata": {},
   "outputs": [
    {
     "data": {
      "text/plain": [
       "array([2])"
      ]
     },
     "execution_count": 158,
     "metadata": {},
     "output_type": "execute_result"
    }
   ],
   "source": [
    "clf_svm.predict(test_x_vectors[300])"
   ]
  },
  {
   "cell_type": "markdown",
   "id": "6b479b8d",
   "metadata": {},
   "source": [
    "### Not the best needs lots of tweak, maybe another classification method and more data"
   ]
  },
  {
   "cell_type": "code",
   "execution_count": 159,
   "id": "b5b00902",
   "metadata": {},
   "outputs": [
    {
     "data": {
      "text/plain": [
       "0.4286407766990291"
      ]
     },
     "execution_count": 159,
     "metadata": {},
     "output_type": "execute_result"
    }
   ],
   "source": [
    "clf_svm.score(test_x_vectors, test_y)"
   ]
  },
  {
   "cell_type": "code",
   "execution_count": 166,
   "id": "1811fa41",
   "metadata": {},
   "outputs": [
    {
     "data": {
      "text/plain": [
       "array([3, 2, 3, 5])"
      ]
     },
     "execution_count": 166,
     "metadata": {},
     "output_type": "execute_result"
    }
   ],
   "source": [
    "test_set = [\"Beğendim ancak tamamen sorunsuz değil. Kurulumu epey uğraştırdı. Yine de işe yarar\", \"Yenecek gibi değil çöpe attık\", \"idare eder ama tekrar sipariş vereceğimi sanmam\", \"oldukça beğendim, kızıma tam oldu\"]\n",
    "\n",
    "new_test = vectorizer.transform(test_set)\n",
    "\n",
    "clf_svm.predict(new_test)"
   ]
  }
 ],
 "metadata": {
  "kernelspec": {
   "display_name": "Python 3 (ipykernel)",
   "language": "python",
   "name": "python3"
  },
  "language_info": {
   "codemirror_mode": {
    "name": "ipython",
    "version": 3
   },
   "file_extension": ".py",
   "mimetype": "text/x-python",
   "name": "python",
   "nbconvert_exporter": "python",
   "pygments_lexer": "ipython3",
   "version": "3.8.10"
  }
 },
 "nbformat": 4,
 "nbformat_minor": 5
}
